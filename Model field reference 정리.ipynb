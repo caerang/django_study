{
 "cells": [
  {
   "cell_type": "markdown",
   "metadata": {},
   "source": [
    "# Model field reference\n",
    "\n",
    "## Field options\n",
    "\n",
    "### null\n",
    "* True면 Datatbase에 NULL값으로 빈값 저장\n",
    "* 기본은 False\n",
    "\n",
    "* CharField, TextField와 같은 문자열 기반의 필드에 null 설정은 피해라\n",
    "* 빈 문자열 값은 항상 빈 문자열 값으로 저장 (NULL로 저장되지 않음)\n",
    "* null=True로 되어 있다면 장고는 빈 문자열을 사용하는게 기본 원칙\n",
    "* BooleanField 필드에 null 값을 사용하고 싶다면 NullBooleanField를 사용\n",
    "* Form에서 빈 값을 허용하려면 blank=True를 설정\n",
    "* null 매개변수는 데이터베이스에만 영향을 미침\n",
    "\n",
    "### blank\n",
    "* True로 설정하면 빈 값을 허용함\n",
    "* 기본은 False\n",
    "* null은 데이터베이스와 관련있는 필드이고 blank는 필드 값 검사와 관련 있음\n",
    "* blank=True로 설정되어 있다면 form 검사에서 빈 값이 허용됨\n",
    "\n",
    "### choices\n",
    "* 해당 필드를 choices로 사용하기 위한 두 아이템의 iterable\n",
    "* choices가 설정되었다면 기본 폼 위젯은 choices를 값으로 갖는 select box임\n",
    "* choices의 첫번째 아이템은 데이터베이스에 저장될 값이고 두번째 아이템은 화면에 표시될 값"
   ]
  },
  {
   "cell_type": "code",
   "execution_count": null,
   "metadata": {},
   "outputs": [],
   "source": [
    "YEAR_IN_SCHOOL_CHOICES = (\n",
    "    ('FR', 'Freshman'),\n",
    "    ('SO', 'Sophomore'),\n",
    "    ('JR', 'Junior'),\n",
    "    ('SR', 'Senior'),\n",
    ")"
   ]
  },
  {
   "cell_type": "markdown",
   "metadata": {},
   "source": [
    "** FR, SO ** 등은 데이터 베이스에 저장될 값\n",
    "** Freshman, Sophomore ** 등은 폼 위젯에 표시될 값"
   ]
  },
  {
   "cell_type": "code",
   "execution_count": 1,
   "metadata": {},
   "outputs": [],
   "source": [
    "import django\n",
    "import os\n",
    "\n",
    "SECRET_KEY = 'django_study'\n",
    "DATABASES = {\n",
    "    'default': {\n",
    "        'ENGINE': 'django.db.backends.sqlite3',\n",
    "        'NAME': ':memory:',\n",
    "    }\n",
    "}\n",
    "ROOT_URLCONF = '__main__'\n",
    "\n",
    "urls = []\n",
    "\n",
    "os.environ['DJANGO_SETTINGS_MODULE'] = '__main__'\n",
    "\n",
    "django.setup()"
   ]
  },
  {
   "cell_type": "code",
   "execution_count": 2,
   "metadata": {},
   "outputs": [],
   "source": [
    "from django.db import models\n",
    "\n",
    "class Student(models.Model):\n",
    "    FRESHMAN = 'FR'\n",
    "    SOPHOMORE = 'SO'\n",
    "    JUNIOR = 'JR'\n",
    "    SENIOR = 'SR'\n",
    "    YEAR_IN_SCHOOL_CHOICES = (\n",
    "        (FRESHMAN, 'Freshman'),\n",
    "        (SOPHOMORE, 'Sophomore'),\n",
    "        (JUNIOR, 'Junior'),\n",
    "        (SENIOR, 'Senior'),\n",
    "    )\n",
    "    year_in_school = models.CharField(\n",
    "        max_length=2,\n",
    "        choices=YEAR_IN_SCHOOL_CHOICES,\n",
    "        default=FRESHMAN,\n",
    "    )\n",
    "    \n",
    "    class Meta:\n",
    "        app_label = 'student_api'\n",
    "    \n",
    "    def is_upperclass(self):\n",
    "        return self.year_in_school in (self.JUNIOR, self.SENIOR)\n",
    "    "
   ]
  }
 ],
 "metadata": {
  "kernelspec": {
   "display_name": "Python 3",
   "language": "python",
   "name": "python3"
  },
  "language_info": {
   "codemirror_mode": {
    "name": "ipython",
    "version": 3
   },
   "file_extension": ".py",
   "mimetype": "text/x-python",
   "name": "python",
   "nbconvert_exporter": "python",
   "pygments_lexer": "ipython3",
   "version": "3.6.1"
  }
 },
 "nbformat": 4,
 "nbformat_minor": 2
}
